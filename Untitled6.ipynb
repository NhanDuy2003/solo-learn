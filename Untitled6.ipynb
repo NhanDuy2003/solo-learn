{
  "nbformat": 4,
  "nbformat_minor": 0,
  "metadata": {
    "colab": {
      "provenance": [],
      "authorship_tag": "ABX9TyPX2aLYVEWv4/DhKMQ3LFUM",
      "include_colab_link": true
    },
    "kernelspec": {
      "name": "python3",
      "display_name": "Python 3"
    },
    "language_info": {
      "name": "python"
    }
  },
  "cells": [
    {
      "cell_type": "markdown",
      "metadata": {
        "id": "view-in-github",
        "colab_type": "text"
      },
      "source": [
        "<a href=\"https://colab.research.google.com/github/NhanDuy2003/solo-learn/blob/main/Untitled6.ipynb\" target=\"_parent\"><img src=\"https://colab.research.google.com/assets/colab-badge.svg\" alt=\"Open In Colab\"/></a>"
      ]
    },
    {
      "cell_type": "markdown",
      "source": [],
      "metadata": {
        "id": "TKyMeCxOpkry"
      }
    },
    {
      "cell_type": "code",
      "execution_count": null,
      "metadata": {
        "id": "KN-EJPY5phfi"
      },
      "outputs": [],
      "source": [
        "import json\n",
        "import os\n",
        "from pathlib import Path\n",
        "\n",
        "from omegaconf import OmegaConf\n",
        "\n",
        "from solo.args.umap import parse_args_umap\n",
        "from solo.data.classification_dataloader import prepare_data\n",
        "from solo.methods import METHODS\n",
        "from solo.utils.auto_umap import OfflineUMAP\n",
        "\n",
        "\n",
        "def main():\n",
        "    args = parse_args_umap()\n",
        "\n",
        "    # build paths\n",
        "    ckpt_dir = Path(args.pretrained_checkpoint_dir)\n",
        "    args_path = ckpt_dir / \"args.json\"\n",
        "    ckpt_path = [ckpt_dir / ckpt for ckpt in os.listdir(ckpt_dir) if ckpt.endswith(\".ckpt\")][0]\n",
        "\n",
        "    # load arguments\n",
        "    with open(args_path) as f:\n",
        "        method_args = json.load(f)\n",
        "    cfg = OmegaConf.create(method_args)\n",
        "\n",
        "    # build the model\n",
        "    model = (\n",
        "        METHODS[method_args[\"method\"]]\n",
        "        .load_from_checkpoint(ckpt_path, strict=False, cfg=cfg)\n",
        "        .backbone\n",
        "    )\n",
        "    # prepare data\n",
        "    train_loader, val_loader = prepare_data(\n",
        "        args.dataset,\n",
        "        train_data_path=args.train_data_path,\n",
        "        val_data_path=args.val_data_path,\n",
        "        data_format=args.data_format,\n",
        "        batch_size=args.batch_size,\n",
        "        num_workers=args.num_workers,\n",
        "        auto_augment=False,\n",
        "    )\n",
        "\n",
        "    umap = OfflineUMAP()\n",
        "\n",
        "    # move model to the gpu\n",
        "    device = \"cuda:0\"\n",
        "    model = model.to(device)\n",
        "\n",
        "    umap.plot(device, model, train_loader, \"im100_train_umap.pdf\")\n",
        "    umap.plot(device, model, val_loader, \"im100_val_umap.pdf\")\n",
        "\n",
        "\n",
        "if __name__ == \"__main__\":\n",
        "    main()\n"
      ]
    }
  ]
}